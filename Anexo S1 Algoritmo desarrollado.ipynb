{
 "cells": [
  {
   "cell_type": "code",
   "execution_count": 1,
   "metadata": {},
   "outputs": [],
   "source": [
    "import pandas as pd\n",
    "import numpy as np\n",
    "import os\n",
    "from nbconvert import HTMLExporter\n",
    "import nbformat\n",
    "import matplotlib.pyplot as plt\n",
    "import calendar\n",
    "from datetime import datetime, timedelta\n",
    "import re\n",
    "import warnings"
   ]
  },
  {
   "cell_type": "code",
   "execution_count": 26,
   "metadata": {},
   "outputs": [],
   "source": [
    "# Suprimir FutureWarnings\n",
    "warnings.simplefilter(action='ignore', category=FutureWarning)"
   ]
  },
  {
   "cell_type": "code",
   "execution_count": 3,
   "metadata": {},
   "outputs": [],
   "source": [
    "pd.set_option('display.max_colwidth', None)\n",
    "pd.set_option('display.max_rows' , None)\n",
    "\n",
    "nueva_ruta = r\"\\\\ESSLIMD02610088\\Users\\edgar.coila\\Desktop\\Reportes Dra. Palomino\\COMPILADO DE ALGORITMOS\\Resultados Finales\"\n",
    "os.chdir(nueva_ruta)"
   ]
  },
  {
   "cell_type": "code",
   "execution_count": 4,
   "metadata": {},
   "outputs": [
    {
     "name": "stderr",
     "output_type": "stream",
     "text": [
      "C:\\Users\\ietsi.sdis2\\AppData\\Local\\Temp\\ipykernel_21288\\3016630268.py:3: DtypeWarning: Columns (10,11) have mixed types. Specify dtype option on import or set low_memory=False.\n",
      "  Atenciones = pd.read_csv(ruta , sep = '|' , encoding='ISO-8859-1' )\n"
     ]
    }
   ],
   "source": [
    "# IMPORTANDO LA TABLA DE ATENCIONES 2022 Y 2023\n",
    "ruta = r'atenciones2022_2023_id_encryt.csv'\n",
    "Atenciones = pd.read_csv(ruta , sep = '|' , encoding='ISO-8859-1' )"
   ]
  },
  {
   "cell_type": "code",
   "execution_count": 5,
   "metadata": {},
   "outputs": [],
   "source": [
    "Atenciones = Atenciones.applymap(lambda x: x.strip() if isinstance(x, str) else x)\n"
   ]
  },
  {
   "cell_type": "code",
   "execution_count": 7,
   "metadata": {},
   "outputs": [],
   "source": [
    "# Existen 'DIAGNOSTICO' con datos vacios, se van a retirar\n",
    "Atenciones_1 = Atenciones.dropna(subset=['DIAGNOSTICO'])\n",
    "# eliminando datos con sexo = 2\n",
    "Atenciones_1 = Atenciones_1[Atenciones_1['categoria'] !=\"otros\"]\n",
    "Atenciones_1 = Atenciones_1[Atenciones_1['sexo'] !=2]\n",
    "Atenciones_1['FECHA_ATENCION'] = pd.to_datetime(Atenciones_1['FECHA_ATENCION'], format='%d/%m/%Y')"
   ]
  },
  {
   "cell_type": "code",
   "execution_count": 8,
   "metadata": {},
   "outputs": [
    {
     "name": "stderr",
     "output_type": "stream",
     "text": [
      "<>:7: SyntaxWarning: invalid escape sequence '\\('\n",
      "<>:7: SyntaxWarning: invalid escape sequence '\\('\n",
      "C:\\Users\\ietsi.sdis2\\AppData\\Local\\Temp\\ipykernel_21288\\2989897706.py:7: SyntaxWarning: invalid escape sequence '\\('\n",
      "  'MEDICO DE CONTROL \\(MECO\\)'\n"
     ]
    }
   ],
   "source": [
    "# Se va a retirar de la base de datos Servicios: MEDICO PERSONAL,MEDICO CONTROL , MEDICO OCUPACIONAL Y DEL MEDIO AMBIENTE\n",
    "Atenciones_1['SERVICIO'] = Atenciones_1['SERVICIO'].str.strip()\n",
    "\n",
    "subcadenas = [\n",
    "    'MEDICO DE PERSONAL',\n",
    "    'MEDICINA OCUPACIONAL Y DEL MEDIO AMBIENTE',\n",
    "    'MEDICO DE CONTROL \\(MECO\\)'\n",
    "]\n",
    "\n",
    "pattern = '|'.join(subcadenas)\n",
    "\n",
    "Atenciones_1 = Atenciones_1[~Atenciones_1['SERVICIO'].str.contains(pattern, case=False, na=False)]"
   ]
  },
  {
   "cell_type": "code",
   "execution_count": 9,
   "metadata": {},
   "outputs": [],
   "source": [
    "# Diccionario de reemplazos\n",
    "replacements = {\n",
    "    'GINECOLOGIA': 'GINECOLOGIA Y OBSTETRICIA',\n",
    "    'HEMATOLOGIA': 'HEMATOLOGIA CLINICA',\n",
    "    'REANIMACION Y TERAPIA DEL DOLOR': 'ANESTESIA, ANALGESIA Y REANIMACION',\n",
    "    'CIRUGIA VASCULAR': 'CIRUGIA DE TORAX Y CARDIOVASCULAR'\n",
    "}\n",
    "\n",
    "# Reemplazar los valores en la columna 'SERVICIO'\n",
    "Atenciones_1['SERVICIO'] = Atenciones_1['SERVICIO'].replace(replacements)"
   ]
  },
  {
   "cell_type": "code",
   "execution_count": null,
   "metadata": {},
   "outputs": [],
   "source": [
    "Atenciones_1.SERVICIO.unique()"
   ]
  },
  {
   "cell_type": "code",
   "execution_count": 11,
   "metadata": {},
   "outputs": [],
   "source": [
    "Prime_Atenciones = Atenciones_1[['id','SERVICIO','DIAGNOSTICO','FECHA_ATENCION','categoria','anio','CENTRO']]"
   ]
  },
  {
   "cell_type": "code",
   "execution_count": 12,
   "metadata": {},
   "outputs": [],
   "source": [
    "# Filtrando la base historica por grupo etario\n",
    "\n",
    "Prime_Atenciones_A = Prime_Atenciones[Prime_Atenciones['categoria'] == '1m a < 5a']\n",
    "Prime_Atenciones_B = Prime_Atenciones[Prime_Atenciones['categoria'] == '5a a < 18a']\n",
    "Prime_Atenciones_C = Prime_Atenciones[Prime_Atenciones['categoria'] == 'de 18a a < de 30a']\n",
    "Prime_Atenciones_D = Prime_Atenciones[Prime_Atenciones['categoria'] == 'de 30a a < de 60a']\n",
    "Prime_Atenciones_E = Prime_Atenciones[Prime_Atenciones['categoria'] == 'de 60a a mÃ¡s']"
   ]
  },
  {
   "cell_type": "code",
   "execution_count": 13,
   "metadata": {},
   "outputs": [],
   "source": [
    "# Importando los resultados de los votos\n",
    "nueva_ruta = r\"\\\\ESSLIMD02610088\\Users\\edgar.coila\\Desktop\\Reportes Dra. Palomino\\COMPILADO DE ALGORITMOS\"\n",
    "os.chdir(nueva_ruta)"
   ]
  },
  {
   "cell_type": "code",
   "execution_count": 14,
   "metadata": {},
   "outputs": [],
   "source": [
    "### VOTOS CON FILOSOFIA CALIDAD\n",
    "\n",
    "# Grupo A\n",
    "ruta = r'DF_CONSOLIDADO_A_respuesta_votos_C.txt'\n",
    "datos_resultados_A_F_C = pd.read_csv(ruta , sep = '|' , encoding='ISO-8859-1' )\n",
    "datos_resultados_A_F_C = datos_resultados_A_F_C.applymap(lambda x: x.strip() if isinstance(x, str) else x)\n",
    "datos_resultados_A_F_C['_k'] = datos_resultados_A_F_C['_k'].astype(int)\n",
    "\n",
    "# Grupo B\n",
    "ruta = r'DF_CONSOLIDADO_B_respuesta_votos_C.txt'\n",
    "datos_resultados_B_F_C = pd.read_csv(ruta , sep = '|' , encoding='ISO-8859-1' )\n",
    "datos_resultados_B_F_C = datos_resultados_B_F_C.applymap(lambda x: x.strip() if isinstance(x, str) else x)\n",
    "datos_resultados_B_F_C['_k'] = datos_resultados_B_F_C['_k'].astype(int)\n",
    "\n",
    "# Grupo C\n",
    "ruta = r'DF_CONSOLIDADO_C_respuesta_votos_C.txt'\n",
    "datos_resultados_C_F_C = pd.read_csv(ruta , sep = '|' , encoding='ISO-8859-1' )\n",
    "datos_resultados_C_F_C = datos_resultados_C_F_C.applymap(lambda x: x.strip() if isinstance(x, str) else x)\n",
    "datos_resultados_C_F_C['_k'] = datos_resultados_C_F_C['_k'].astype(int)\n",
    "\n",
    "# Grupo D\n",
    "ruta = r'DF_CONSOLIDADO_D_respuesta_votos_C.txt'\n",
    "datos_resultados_D_F_C = pd.read_csv(ruta , sep = '|' , encoding='ISO-8859-1' )\n",
    "datos_resultados_D_F_C = datos_resultados_D_F_C.applymap(lambda x: x.strip() if isinstance(x, str) else x)\n",
    "datos_resultados_D_F_C['_k'] = datos_resultados_D_F_C['_k'].astype(int)\n",
    "\n",
    "# Grupo E\n",
    "ruta = r'DF_CONSOLIDADO_E_respuesta_votos_C.txt'\n",
    "datos_resultados_E_F_C = pd.read_csv(ruta , sep = '|' , encoding='ISO-8859-1' )\n",
    "datos_resultados_E_F_C = datos_resultados_E_F_C.applymap(lambda x: x.strip() if isinstance(x, str) else x)\n",
    "datos_resultados_E_F_C['_k'] = datos_resultados_E_F_C['_k'].astype(int)\n",
    "\n",
    "### VOTOS CON FILOSOFIA AHORRO\n",
    "# Grupo A\n",
    "ruta = r'DF_CONSOLIDADO_A_respuesta_votos_A.txt'\n",
    "datos_resultados_A_F_A = pd.read_csv(ruta , sep = '|' , encoding='ISO-8859-1' )\n",
    "datos_resultados_A_F_A = datos_resultados_A_F_A.applymap(lambda x: x.strip() if isinstance(x, str) else x)\n",
    "datos_resultados_A_F_A['_k'] = datos_resultados_A_F_A['_k'].astype(int)\n",
    "\n",
    "# Grupo B\n",
    "ruta = r'DF_CONSOLIDADO_B_respuesta_votos_A.txt'\n",
    "datos_resultados_B_F_A = pd.read_csv(ruta , sep = '|' , encoding='ISO-8859-1' )\n",
    "datos_resultados_B_F_A = datos_resultados_B_F_A.applymap(lambda x: x.strip() if isinstance(x, str) else x)\n",
    "datos_resultados_B_F_A['_k'] = datos_resultados_B_F_A['_k'].astype(int)\n",
    "\n",
    "# Grupo C\n",
    "ruta = r'DF_CONSOLIDADO_C_respuesta_votos_A.txt'\n",
    "datos_resultados_C_F_A = pd.read_csv(ruta , sep = '|' , encoding='ISO-8859-1' )\n",
    "datos_resultados_C_F_A = datos_resultados_C_F_A.applymap(lambda x: x.strip() if isinstance(x, str) else x)\n",
    "datos_resultados_C_F_A['_k'] = datos_resultados_C_F_A['_k'].astype(int)\n",
    "\n",
    "# Grupo D\n",
    "ruta = r'DF_CONSOLIDADO_D_respuesta_votos_A.txt'\n",
    "datos_resultados_D_F_A = pd.read_csv(ruta , sep = '|' , encoding='ISO-8859-1' )\n",
    "datos_resultados_D_F_A = datos_resultados_D_F_A.applymap(lambda x: x.strip() if isinstance(x, str) else x)\n",
    "datos_resultados_D_F_A['_k'] = datos_resultados_D_F_A['_k'].astype(int)\n",
    "\n",
    "# Grupo E\n",
    "ruta = r'DF_CONSOLIDADO_E_respuesta_votos_A.txt'\n",
    "datos_resultados_E_F_A = pd.read_csv(ruta , sep = '|' , encoding='ISO-8859-1' )\n",
    "datos_resultados_E_F_A = datos_resultados_E_F_A.applymap(lambda x: x.strip() if isinstance(x, str) else x)\n",
    "datos_resultados_E_F_A['_k'] = datos_resultados_E_F_A['_k'].astype(int)"
   ]
  },
  {
   "cell_type": "code",
   "execution_count": 27,
   "metadata": {},
   "outputs": [],
   "source": [
    "def algortimo_asignacion_atenciones(atenciones: pd.DataFrame, resultados: pd.DataFrame, numero_digitos_cie_10: int) -> pd.DataFrame:\n",
    "    warnings.simplefilter(action='ignore', category=FutureWarning)\n",
    "    \n",
    "    atenciones['RESULTADO DE TIPO ATENCION'] = 'SIN ASIGNACION'\n",
    "    atenciones['REVISADO'] = 'N'\n",
    "    total_iteraciones = len(resultados)\n",
    "\n",
    "    for i, fila in resultados.iterrows():\n",
    "\n",
    "        a = fila[0]  \n",
    "        b = fila[1]  \n",
    "        c = fila[2]  \n",
    "        print(f\"Analizando la iteración {i} de {total_iteraciones} , el diagnostico {a}\")\n",
    "\n",
    "        if numero_digitos_cie_10 == 3:\n",
    "            a_regex = re.escape(a[:3]) \n",
    "            Prime_Atenciones_G = atenciones.loc[atenciones['DIAGNOSTICO'].str.match(a_regex) & (atenciones['REVISADO'] == 'N')]\n",
    "            Prime_Atenciones_2023 = Prime_Atenciones_G.loc[Prime_Atenciones_G['anio'] == 2023]\n",
    "        else:\n",
    "            Prime_Atenciones_G = atenciones[(atenciones['DIAGNOSTICO'] == a) & (atenciones['REVISADO'] == 'N')]\n",
    "            Prime_Atenciones_2023 = Prime_Atenciones_G.loc[Prime_Atenciones_G['anio'] == 2023]\n",
    "\n",
    "        if b == 'MF' or b == 'MG':\n",
    "            indices = Prime_Atenciones_G.index\n",
    "            atenciones.loc[indices, 'RESULTADO DE TIPO ATENCION'] = b\n",
    "            atenciones.loc[indices, 'REVISADO'] = 'S'\n",
    "        \n",
    "        if b != 'MF' and b != 'MG' :\n",
    "        \n",
    "            if not Prime_Atenciones_2023.empty:\n",
    "                Atenciones_id = Prime_Atenciones_2023.sort_values(by='FECHA_ATENCION', ascending=True)\n",
    "                for _, filax in Atenciones_id.iterrows():\n",
    "                    e_id = filax['id']\n",
    "\n",
    "                    primer_fecha_atencion_2023 = filax['FECHA_ATENCION']\n",
    "                    f_un_anio_atras = primer_fecha_atencion_2023 - timedelta(days=365)\n",
    "\n",
    "                    indices = Prime_Atenciones_G[\n",
    "                                    (Prime_Atenciones_G['id'] == e_id) &\n",
    "                                    (Prime_Atenciones_G['FECHA_ATENCION'] >= f_un_anio_atras) & (Prime_Atenciones_G['REVISADO'] == 'N')\n",
    "                                ].index                     \n",
    "\n",
    "                    if c == 1:\n",
    "                            atenciones.loc[indices, ['RESULTADO DE TIPO ATENCION', 'REVISADO']] = [b, 'S']\n",
    "\n",
    "                    if c == 2:\n",
    "                            atenciones.loc[indices[:1], ['RESULTADO DE TIPO ATENCION', 'REVISADO']] = ['MF', 'S']\n",
    "                            atenciones.loc[indices[1:], ['RESULTADO DE TIPO ATENCION', 'REVISADO']] = [b, 'S']\n",
    "\n",
    "                    if c == 3:\n",
    "                            atenciones.loc[indices[:2], ['RESULTADO DE TIPO ATENCION', 'REVISADO']] = ['MF', 'S']\n",
    "                            atenciones.loc[indices[2:], ['RESULTADO DE TIPO ATENCION', 'REVISADO']] = [b, 'S']\n",
    "\n",
    "                    if c == 4:\n",
    "                            atenciones.loc[indices[:3], ['RESULTADO DE TIPO ATENCION', 'REVISADO']] = ['MF', 'S']\n",
    "                            atenciones.loc[indices[3:], ['RESULTADO DE TIPO ATENCION', 'REVISADO']] = [b, 'S']\n",
    "\n",
    "                    if c == 5:\n",
    "                            atenciones.loc[indices[:4], ['RESULTADO DE TIPO ATENCION', 'REVISADO']] = ['MF', 'S']\n",
    "                            atenciones.loc[indices[4:], ['RESULTADO DE TIPO ATENCION', 'REVISADO']] = [b, 'S']     \n",
    "\n",
    "    warnings.simplefilter(\"default\", FutureWarning)\n",
    "    return atenciones"
   ]
  },
  {
   "cell_type": "code",
   "execution_count": 16,
   "metadata": {},
   "outputs": [],
   "source": [
    "# Importando los resultados de los votos\n",
    "nueva_ruta = r\"\\\\ESSLIMD02610088\\Users\\edgar.coila\\Desktop\\Reportes Dra. Palomino\\COMPILADO DE ALGORITMOS\\Resultados Finales\"\n",
    "os.chdir(nueva_ruta)"
   ]
  },
  {
   "cell_type": "code",
   "execution_count": null,
   "metadata": {},
   "outputs": [],
   "source": [
    "Resultado_A_A_3D_Nuevo = algortimo_asignacion_atenciones(Prime_Atenciones_A , datos_resultados_A_F_A,3)\n",
    "Resultado_A_A_3D_Nuevo = Resultado_A_A_3D_Nuevo.sort_index()\n",
    "Resultado_A_A_3D_Nuevo.to_csv('Resultado_A_A_3D_Nuevo.txt', index=False , sep = '|')"
   ]
  },
  {
   "cell_type": "code",
   "execution_count": null,
   "metadata": {},
   "outputs": [],
   "source": [
    "Resultado_E_C_3D_Nuevo = algortimo_asignacion_atenciones(Prime_Atenciones_E , datos_resultados_E_F_C,3)\n",
    "Resultado_E_C_3D_Nuevo = Resultado_E_C_3D_Nuevo.sort_index()\n",
    "Resultado_E_C_3D_Nuevo.to_csv('Resultado_E_C_3D_Nuevo.txt', index=False , sep = '|')"
   ]
  },
  {
   "cell_type": "code",
   "execution_count": null,
   "metadata": {},
   "outputs": [],
   "source": [
    "Resultado_D_C_3D_Nuevo = algortimo_asignacion_atenciones(Prime_Atenciones_D , datos_resultados_D_F_C,3)\n",
    "Resultado_D_C_3D_Nuevo = Resultado_D_C_3D_Nuevo.sort_index()\n",
    "Resultado_D_C_3D_Nuevo.to_csv('Resultado_D_C_3D_Nuevo.txt', index=False , sep = '|')\n"
   ]
  },
  {
   "cell_type": "code",
   "execution_count": null,
   "metadata": {},
   "outputs": [],
   "source": [
    "Resultado_C_C_3D_Nuevo = algortimo_asignacion_atenciones(Prime_Atenciones_C , datos_resultados_C_F_C,3)\n",
    "Resultado_C_C_3D_Nuevo = Resultado_C_C_3D_Nuevo.sort_index()\n",
    "Resultado_C_C_3D_Nuevo.to_csv('Resultado_C_C_3D_Nuevo.txt', index=False , sep = '|')"
   ]
  },
  {
   "cell_type": "code",
   "execution_count": null,
   "metadata": {},
   "outputs": [],
   "source": [
    "Resultado_B_C_3D_Nuevo = algortimo_asignacion_atenciones(Prime_Atenciones_B , datos_resultados_B_F_C,3)\n",
    "Resultado_B_C_3D_Nuevo = Resultado_B_C_3D_Nuevo.sort_index()\n",
    "Resultado_B_C_3D_Nuevo.to_csv('Resultado_B_C_3D_Nuevo.txt', index=False , sep = '|')"
   ]
  },
  {
   "cell_type": "code",
   "execution_count": null,
   "metadata": {},
   "outputs": [],
   "source": [
    "Resultado_A_C_3D_Nuevo = algortimo_asignacion_atenciones(Prime_Atenciones_A , datos_resultados_A_F_C,3)\n",
    "Resultado_A_C_3D_Nuevo = Resultado_A_C_3D_Nuevo.sort_index()\n",
    "Resultado_A_C_3D_Nuevo.to_csv('Resultado_A_C_3D_Nuevo.txt', index=False , sep = '|')"
   ]
  },
  {
   "cell_type": "code",
   "execution_count": null,
   "metadata": {},
   "outputs": [],
   "source": [
    "Resultado_E_A_3D_Nuevo = algortimo_asignacion_atenciones(Prime_Atenciones_E , datos_resultados_E_F_A,3)\n",
    "Resultado_E_A_3D_Nuevo = Resultado_E_A_3D_Nuevo.sort_index()\n",
    "Resultado_E_A_3D_Nuevo.to_csv('Resultado_E_A_3D_Nuevo.txt', index=False , sep = '|')"
   ]
  },
  {
   "cell_type": "code",
   "execution_count": null,
   "metadata": {},
   "outputs": [],
   "source": [
    "Resultado_D_A_3D_Nuevo = algortimo_asignacion_atenciones(Prime_Atenciones_D , datos_resultados_D_F_A,3)\n",
    "Resultado_D_A_3D_Nuevo = Resultado_D_A_3D_Nuevo.sort_index()\n",
    "Resultado_D_A_3D_Nuevo.to_csv('Resultado_D_A_3D_Nuevo.txt', index=False , sep = '|')"
   ]
  },
  {
   "cell_type": "code",
   "execution_count": null,
   "metadata": {},
   "outputs": [],
   "source": [
    "Resultado_E_C_4D_Nuevo = algortimo_asignacion_atenciones(Prime_Atenciones_E , datos_resultados_E_F_C,4)\n",
    "Resultado_E_C_4D_Nuevo = Resultado_E_C_4D_Nuevo.sort_index()\n",
    "Resultado_E_C_4D_Nuevo.to_csv('Resultado_E_C_4D_Nuevo.txt', index=False , sep = '|')"
   ]
  }
 ],
 "metadata": {
  "kernelspec": {
   "display_name": "Python 3",
   "language": "python",
   "name": "python3"
  },
  "language_info": {
   "codemirror_mode": {
    "name": "ipython",
    "version": 3
   },
   "file_extension": ".py",
   "mimetype": "text/x-python",
   "name": "python",
   "nbconvert_exporter": "python",
   "pygments_lexer": "ipython3",
   "version": "3.12.3"
  }
 },
 "nbformat": 4,
 "nbformat_minor": 2
}
